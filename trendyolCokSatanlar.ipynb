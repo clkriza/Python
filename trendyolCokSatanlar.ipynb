{
  "nbformat": 4,
  "nbformat_minor": 0,
  "metadata": {
    "colab": {
      "provenance": [],
      "authorship_tag": "ABX9TyObdTy+7TH5+XT4vdM39n9f",
      "include_colab_link": true
    },
    "kernelspec": {
      "name": "python3",
      "display_name": "Python 3"
    },
    "language_info": {
      "name": "python"
    }
  },
  "cells": [
    {
      "cell_type": "markdown",
      "metadata": {
        "id": "view-in-github",
        "colab_type": "text"
      },
      "source": [
        "<a href=\"https://colab.research.google.com/github/clkriza/Python/blob/main/trendyolCokSatanlar.ipynb\" target=\"_parent\"><img src=\"https://colab.research.google.com/assets/colab-badge.svg\" alt=\"Open In Colab\"/></a>"
      ]
    },
    {
      "cell_type": "code",
      "execution_count": null,
      "metadata": {
        "id": "EOMAkvVJKN8q"
      },
      "outputs": [],
      "source": [
        "import requests\n",
        "from bs4 import BeautifulSoup\n",
        "import lxml\n",
        "\n",
        "URL = \"https://www.trendyol.com/cok-satanlar?type=bestSeller&webGenderId=1\"\n",
        "page = requests.get(URL)\n",
        "\n",
        "soup = BeautifulSoup(page.content, \"lxml\")\n",
        "\n",
        "kutu  = soup.find_all(class_=\"product-listing-container\")\n",
        "print(\"**** En Çok Satanlar *****\\n\")\n",
        "for k in kutu:\n",
        "    rank_text = k.find_all(\"span\",class_=\"rank-text\")\n",
        "    baslik= k.find_all(\"span\",class_=\"product-name\")\n",
        "    fiyat = k.find_all(class_=\"prc-box-dscntd\")\n",
        "    customer = k.find_all(\"span\", class_=\"product-brand\")\n",
        "    rat = k.find_all(\"span\", class_=\"ratingCount\")\n",
        "    img = k.find_all(class_=\"product-img\")\n",
        "\n",
        "    for b,f,s,c,r,i in zip(baslik,fiyat,rank_text,customer,rat,img):\n",
        "      print(\"[Sıra :]\",s.get_text())\n",
        "      print(\"[Satıcı :]\",c.get_text())\n",
        "      print(\"[Ürün Adı :]\", b.get_text())\n",
        "      print(\"[Puan :]\", r.get_text().replace(\"(\", \"\").replace(\")\", \"\"))\n",
        "      print(\"[Resim :]\",i.get(\"src\"))\n",
        "      print(\"[Fiyat :]\",f.get_text(),\"\\n\")\n",
        "\n",
        "\n"
      ]
    }
  ]
}